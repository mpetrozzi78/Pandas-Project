{
 "cells": [
  {
   "cell_type": "markdown",
   "metadata": {},
   "source": [
    "### Heroes Of Pymoli Data Analysis\n",
    "* Of the 1163 active players, the vast majority are male (84%). There also exists, a smaller, but notable proportion of female players (14%).\n",
    "\n",
    "* Our peak age demographic falls between 20-24 (44.8%) with secondary groups falling between 15-19 (18.60%) and 25-29 (13.4%).  \n",
    "-----"
   ]
  },
  {
   "cell_type": "markdown",
   "metadata": {},
   "source": [
    "### Note\n",
    "* Instructions have been included for each segment. You do not have to follow them exactly, but they are included to help you think through the steps."
   ]
  },
  {
   "cell_type": "code",
   "execution_count": 8,
   "metadata": {},
   "outputs": [],
   "source": [
    "# Dependencies and Setup\n",
    "import pandas as pd\n",
    "import numpy as np\n",
    "\n",
    "# File to Load (Remember to Change These)\n",
    "file_to_load = \"Resources/purchase_data.csv\"\n",
    "\n",
    "# Read Purchasing File and store into Pandas data frame\n",
    "purchase_data = pd.read_csv(file_to_load)\n"
   ]
  },
  {
   "cell_type": "markdown",
   "metadata": {},
   "source": [
    "## Player Count"
   ]
  },
  {
   "cell_type": "markdown",
   "metadata": {},
   "source": [
    "* Display the total number of players\n"
   ]
  },
  {
   "cell_type": "code",
   "execution_count": 9,
   "metadata": {},
   "outputs": [
    {
     "data": {
      "text/html": [
       "<div>\n",
       "<style scoped>\n",
       "    .dataframe tbody tr th:only-of-type {\n",
       "        vertical-align: middle;\n",
       "    }\n",
       "\n",
       "    .dataframe tbody tr th {\n",
       "        vertical-align: top;\n",
       "    }\n",
       "\n",
       "    .dataframe thead th {\n",
       "        text-align: right;\n",
       "    }\n",
       "</style>\n",
       "<table border=\"1\" class=\"dataframe\">\n",
       "  <thead>\n",
       "    <tr style=\"text-align: right;\">\n",
       "      <th></th>\n",
       "      <th>Total Players</th>\n",
       "    </tr>\n",
       "  </thead>\n",
       "  <tbody>\n",
       "    <tr>\n",
       "      <th>0</th>\n",
       "      <td>576</td>\n",
       "    </tr>\n",
       "  </tbody>\n",
       "</table>\n",
       "</div>"
      ],
      "text/plain": [
       "   Total Players\n",
       "0            576"
      ]
     },
     "execution_count": 9,
     "metadata": {},
     "output_type": "execute_result"
    }
   ],
   "source": [
    "# Select the unique players\n",
    "count = purchase_data[\"SN\"].value_counts()\n",
    "# Count the unique players\n",
    "total_players = [{\"Total Players\": len(count)}]\n",
    "total_players\n",
    "# Create a data frame with the results\n",
    "total_players_df = pd.DataFrame(total_players)\n",
    "total_players_df\n",
    "    "
   ]
  },
  {
   "cell_type": "markdown",
   "metadata": {},
   "source": [
    "## Purchasing Analysis (Total)"
   ]
  },
  {
   "cell_type": "markdown",
   "metadata": {},
   "source": [
    "* Run basic calculations to obtain number of unique items, average price, etc.\n",
    "\n",
    "\n",
    "* Create a summary data frame to hold the results\n",
    "\n",
    "\n",
    "* Optional: give the displayed data cleaner formatting\n",
    "\n",
    "\n",
    "* Display the summary data frame\n"
   ]
  },
  {
   "cell_type": "code",
   "execution_count": 10,
   "metadata": {
    "scrolled": true
   },
   "outputs": [
    {
     "data": {
      "text/html": [
       "<div>\n",
       "<style scoped>\n",
       "    .dataframe tbody tr th:only-of-type {\n",
       "        vertical-align: middle;\n",
       "    }\n",
       "\n",
       "    .dataframe tbody tr th {\n",
       "        vertical-align: top;\n",
       "    }\n",
       "\n",
       "    .dataframe thead th {\n",
       "        text-align: right;\n",
       "    }\n",
       "</style>\n",
       "<table border=\"1\" class=\"dataframe\">\n",
       "  <thead>\n",
       "    <tr style=\"text-align: right;\">\n",
       "      <th></th>\n",
       "      <th>Number of Unique Items</th>\n",
       "      <th>Average Price</th>\n",
       "      <th>Number of Purchases</th>\n",
       "      <th>Total Revenue</th>\n",
       "    </tr>\n",
       "  </thead>\n",
       "  <tbody>\n",
       "    <tr>\n",
       "      <th>0</th>\n",
       "      <td>183</td>\n",
       "      <td>$3.05</td>\n",
       "      <td>780</td>\n",
       "      <td>$2379.77</td>\n",
       "    </tr>\n",
       "  </tbody>\n",
       "</table>\n",
       "</div>"
      ],
      "text/plain": [
       "   Number of Unique Items Average Price  Number of Purchases Total Revenue\n",
       "0                     183         $3.05                  780      $2379.77"
      ]
     },
     "execution_count": 10,
     "metadata": {},
     "output_type": "execute_result"
    }
   ],
   "source": [
    "#Select the unique items\n",
    "unique_items = purchase_data[\"Item ID\"].value_counts()\n",
    "\n",
    "# Count the unique items\n",
    "unique_items_count = len(unique_items)\n",
    "\n",
    "# Calculate the average price\n",
    "average_price = round(purchase_data[\"Price\"].mean(), 2)\n",
    "\n",
    "# Count the number of purchases\n",
    "number_purchases = len(purchase_data.index)\n",
    "\n",
    "# Calculate the total revenue\n",
    "total_revenue = purchase_data[\"Price\"].sum()\n",
    "\n",
    "# Create a summary data frame with all the results\n",
    "summary_dicts = [{\"Number of Unique Items\": unique_items_count, \n",
    "                  \"Average Price\": \"$\" + str(average_price), \"Number of Purchases\": number_purchases, \n",
    "                  \"Total Revenue\": \"$\" + str(total_revenue)}]\n",
    "\n",
    "# Reorder and display the summary data frame\n",
    "summary_df = pd.DataFrame(summary_dicts)\n",
    "summary_df = summary_df[[\"Number of Unique Items\",\"Average Price\", \"Number of Purchases\", \"Total Revenue\"]]\n",
    "summary_df\n"
   ]
  },
  {
   "cell_type": "markdown",
   "metadata": {},
   "source": [
    "## Gender Demographics"
   ]
  },
  {
   "cell_type": "markdown",
   "metadata": {},
   "source": [
    "* Percentage and Count of Male Players\n",
    "\n",
    "\n",
    "* Percentage and Count of Female Players\n",
    "\n",
    "\n",
    "* Percentage and Count of Other / Non-Disclosed\n",
    "\n",
    "\n"
   ]
  },
  {
   "cell_type": "code",
   "execution_count": 11,
   "metadata": {},
   "outputs": [
    {
     "data": {
      "text/html": [
       "<div>\n",
       "<style scoped>\n",
       "    .dataframe tbody tr th:only-of-type {\n",
       "        vertical-align: middle;\n",
       "    }\n",
       "\n",
       "    .dataframe tbody tr th {\n",
       "        vertical-align: top;\n",
       "    }\n",
       "\n",
       "    .dataframe thead th {\n",
       "        text-align: right;\n",
       "    }\n",
       "</style>\n",
       "<table border=\"1\" class=\"dataframe\">\n",
       "  <thead>\n",
       "    <tr style=\"text-align: right;\">\n",
       "      <th></th>\n",
       "      <th>Total Count</th>\n",
       "      <th>Percentages of Players</th>\n",
       "    </tr>\n",
       "  </thead>\n",
       "  <tbody>\n",
       "    <tr>\n",
       "      <th>Male</th>\n",
       "      <td>484</td>\n",
       "      <td>84.03</td>\n",
       "    </tr>\n",
       "    <tr>\n",
       "      <th>Female</th>\n",
       "      <td>81</td>\n",
       "      <td>14.06</td>\n",
       "    </tr>\n",
       "    <tr>\n",
       "      <th>Other / Non-Disclosed</th>\n",
       "      <td>11</td>\n",
       "      <td>1.91</td>\n",
       "    </tr>\n",
       "  </tbody>\n",
       "</table>\n",
       "</div>"
      ],
      "text/plain": [
       "                       Total Count  Percentages of Players\n",
       "Male                           484                   84.03\n",
       "Female                          81                   14.06\n",
       "Other / Non-Disclosed           11                    1.91"
      ]
     },
     "execution_count": 11,
     "metadata": {},
     "output_type": "execute_result"
    }
   ],
   "source": [
    "# Calculate the number of Unique Players in the DataFrame\n",
    "player_count = len(purchase_data[\"SN\"].unique())\n",
    "\n",
    "# Select only 3 columns that I need\n",
    "reduced_purchase_data = purchase_data.loc[:, [\"SN\", \"Gender\", \"Age\"]]\n",
    "\n",
    "# Drop duplicates from the list\n",
    "sorted_df = reduced_purchase_data.drop_duplicates()\n",
    "\n",
    "# Count the unique values of the gender\n",
    "summary_purchase_data = sorted_df[\"Gender\"].value_counts()\n",
    "\n",
    "# Display the Summary Data Frame\n",
    "summary_df = pd.DataFrame(summary_purchase_data)\n",
    "\n",
    "# Rename the column Gender\n",
    "summary_df = summary_df.rename(columns={\"Gender\":\"Total Count\"})\n",
    "\n",
    "# Calculate the percentages\n",
    "percentages = round(((summary_purchase_data/player_count)*100), 2)\n",
    "\n",
    "# Add the column of percentages to the data frame\n",
    "summary_df[\"Percentages of Players\"] = percentages\n",
    "\n",
    "# Display the renamed data frame\n",
    "summary_df\n"
   ]
  },
  {
   "cell_type": "markdown",
   "metadata": {},
   "source": [
    "\n",
    "## Purchasing Analysis (Gender)"
   ]
  },
  {
   "cell_type": "markdown",
   "metadata": {},
   "source": [
    "* Run basic calculations to obtain purchase count, avg. purchase price, avg. purchase total per person etc. by gender\n",
    "\n",
    "\n",
    "\n",
    "\n",
    "* Create a summary data frame to hold the results\n",
    "\n",
    "\n",
    "* Optional: give the displayed data cleaner formatting\n",
    "\n",
    "\n",
    "* Display the summary data frame"
   ]
  },
  {
   "cell_type": "code",
   "execution_count": 26,
   "metadata": {},
   "outputs": [
    {
     "data": {
      "text/html": [
       "<style  type=\"text/css\" >\n",
       "</style><table id=\"T_084604fa_d7ef_11e9_8823_88e9fe6b57e0\" ><thead>    <tr>        <th class=\"blank level0\" ></th>        <th class=\"col_heading level0 col0\" >Purchase Count</th>        <th class=\"col_heading level0 col1\" >Average Purchase Price</th>        <th class=\"col_heading level0 col2\" >Total Purchase Value</th>        <th class=\"col_heading level0 col3\" >Avg Total Purchase per Person</th>    </tr>    <tr>        <th class=\"index_name level0\" >Gender</th>        <th class=\"blank\" ></th>        <th class=\"blank\" ></th>        <th class=\"blank\" ></th>        <th class=\"blank\" ></th>    </tr></thead><tbody>\n",
       "                <tr>\n",
       "                        <th id=\"T_084604fa_d7ef_11e9_8823_88e9fe6b57e0level0_row0\" class=\"row_heading level0 row0\" >Female</th>\n",
       "                        <td id=\"T_084604fa_d7ef_11e9_8823_88e9fe6b57e0row0_col0\" class=\"data row0 col0\" >113</td>\n",
       "                        <td id=\"T_084604fa_d7ef_11e9_8823_88e9fe6b57e0row0_col1\" class=\"data row0 col1\" >$3.20</td>\n",
       "                        <td id=\"T_084604fa_d7ef_11e9_8823_88e9fe6b57e0row0_col2\" class=\"data row0 col2\" >$361.94</td>\n",
       "                        <td id=\"T_084604fa_d7ef_11e9_8823_88e9fe6b57e0row0_col3\" class=\"data row0 col3\" >$4.47</td>\n",
       "            </tr>\n",
       "            <tr>\n",
       "                        <th id=\"T_084604fa_d7ef_11e9_8823_88e9fe6b57e0level0_row1\" class=\"row_heading level0 row1\" >Male</th>\n",
       "                        <td id=\"T_084604fa_d7ef_11e9_8823_88e9fe6b57e0row1_col0\" class=\"data row1 col0\" >652</td>\n",
       "                        <td id=\"T_084604fa_d7ef_11e9_8823_88e9fe6b57e0row1_col1\" class=\"data row1 col1\" >$3.02</td>\n",
       "                        <td id=\"T_084604fa_d7ef_11e9_8823_88e9fe6b57e0row1_col2\" class=\"data row1 col2\" >$1,967.64</td>\n",
       "                        <td id=\"T_084604fa_d7ef_11e9_8823_88e9fe6b57e0row1_col3\" class=\"data row1 col3\" >$4.07</td>\n",
       "            </tr>\n",
       "            <tr>\n",
       "                        <th id=\"T_084604fa_d7ef_11e9_8823_88e9fe6b57e0level0_row2\" class=\"row_heading level0 row2\" >Other / Non-Disclosed</th>\n",
       "                        <td id=\"T_084604fa_d7ef_11e9_8823_88e9fe6b57e0row2_col0\" class=\"data row2 col0\" >15</td>\n",
       "                        <td id=\"T_084604fa_d7ef_11e9_8823_88e9fe6b57e0row2_col1\" class=\"data row2 col1\" >$3.35</td>\n",
       "                        <td id=\"T_084604fa_d7ef_11e9_8823_88e9fe6b57e0row2_col2\" class=\"data row2 col2\" >$50.19</td>\n",
       "                        <td id=\"T_084604fa_d7ef_11e9_8823_88e9fe6b57e0row2_col3\" class=\"data row2 col3\" >$4.56</td>\n",
       "            </tr>\n",
       "    </tbody></table>"
      ],
      "text/plain": [
       "<pandas.io.formats.style.Styler at 0x11ad62978>"
      ]
     },
     "execution_count": 26,
     "metadata": {},
     "output_type": "execute_result"
    }
   ],
   "source": [
    "# Groupby purchase_data by Gender\n",
    "gender_purchase_data = purchase_data.groupby(\"Gender\")\n",
    "\n",
    "# Calculate total purchase\n",
    "total_purchase = gender_purchase_data.nunique()[\"SN\"]\n",
    "\n",
    "# Count total purchases by gender \n",
    "purchase_count = gender_purchase_data[\"Purchase ID\"].count()\n",
    "\n",
    "# Average purchase prices by gender\n",
    "avg_purchase_price = gender_purchase_data[\"Price\"].mean()\n",
    "\n",
    "# Average purchase total by gender \n",
    "avg_purchase_total = gender_purchase_data[\"Price\"].sum()\n",
    "\n",
    "# Average purchase total by gender divivded by purchase count by unique shoppers\n",
    "avg_purchase_per_gender = avg_purchase_total/total_purchase\n",
    "\n",
    "# Create data frame with obtained values \n",
    "gender_summary = pd.DataFrame({\"Purchase Count\": purchase_count, \"Average Purchase Price\": avg_purchase_price,\n",
    "                \"Total Purchase Value\": avg_purchase_total, \"Avg Total Purchase per Person\": avg_purchase_per_gender})\n",
    "\n",
    "# Print index \"Gender\" in the top left\n",
    "gender_summary.index.name = \"Gender\"\n",
    "\n",
    "# Format with currency style\n",
    "gender_summary.style.format({\"Total Purchase Value\":\"${:,.2f}\", \n",
    "                             \"Average Purchase Price\":\"${:,.2f}\", \n",
    "                             \"Avg Total Purchase per Person\":\"${:,.2f}\"})"
   ]
  },
  {
   "cell_type": "markdown",
   "metadata": {},
   "source": [
    "## Age Demographics"
   ]
  },
  {
   "cell_type": "markdown",
   "metadata": {},
   "source": [
    "* Establish bins for ages\n",
    "\n",
    "\n",
    "* Categorize the existing players using the age bins. Hint: use pd.cut()\n",
    "\n",
    "\n",
    "* Calculate the numbers and percentages by age group\n",
    "\n",
    "\n",
    "* Create a summary data frame to hold the results\n",
    "\n",
    "\n",
    "* Optional: round the percentage column to two decimal points\n",
    "\n",
    "\n",
    "* Display Age Demographics Table\n"
   ]
  },
  {
   "cell_type": "code",
   "execution_count": 24,
   "metadata": {},
   "outputs": [
    {
     "data": {
      "text/html": [
       "<div>\n",
       "<style scoped>\n",
       "    .dataframe tbody tr th:only-of-type {\n",
       "        vertical-align: middle;\n",
       "    }\n",
       "\n",
       "    .dataframe tbody tr th {\n",
       "        vertical-align: top;\n",
       "    }\n",
       "\n",
       "    .dataframe thead th {\n",
       "        text-align: right;\n",
       "    }\n",
       "</style>\n",
       "<table border=\"1\" class=\"dataframe\">\n",
       "  <thead>\n",
       "    <tr style=\"text-align: right;\">\n",
       "      <th></th>\n",
       "      <th>Total Count</th>\n",
       "      <th>Percentage of Players</th>\n",
       "    </tr>\n",
       "  </thead>\n",
       "  <tbody>\n",
       "    <tr>\n",
       "      <th>&lt;10</th>\n",
       "      <td>17</td>\n",
       "      <td>2.95</td>\n",
       "    </tr>\n",
       "    <tr>\n",
       "      <th>10-14</th>\n",
       "      <td>22</td>\n",
       "      <td>3.82</td>\n",
       "    </tr>\n",
       "    <tr>\n",
       "      <th>15-19</th>\n",
       "      <td>107</td>\n",
       "      <td>18.58</td>\n",
       "    </tr>\n",
       "    <tr>\n",
       "      <th>20-24</th>\n",
       "      <td>258</td>\n",
       "      <td>44.79</td>\n",
       "    </tr>\n",
       "    <tr>\n",
       "      <th>25-29</th>\n",
       "      <td>77</td>\n",
       "      <td>13.37</td>\n",
       "    </tr>\n",
       "    <tr>\n",
       "      <th>30-34</th>\n",
       "      <td>52</td>\n",
       "      <td>9.03</td>\n",
       "    </tr>\n",
       "    <tr>\n",
       "      <th>35-39</th>\n",
       "      <td>31</td>\n",
       "      <td>5.38</td>\n",
       "    </tr>\n",
       "    <tr>\n",
       "      <th>40+</th>\n",
       "      <td>12</td>\n",
       "      <td>2.08</td>\n",
       "    </tr>\n",
       "  </tbody>\n",
       "</table>\n",
       "</div>"
      ],
      "text/plain": [
       "       Total Count  Percentage of Players\n",
       "<10             17                   2.95\n",
       "10-14           22                   3.82\n",
       "15-19          107                  18.58\n",
       "20-24          258                  44.79\n",
       "25-29           77                  13.37\n",
       "30-34           52                   9.03\n",
       "35-39           31                   5.38\n",
       "40+             12                   2.08"
      ]
     },
     "execution_count": 24,
     "metadata": {},
     "output_type": "execute_result"
    }
   ],
   "source": [
    "# Create the bins in which Data will be held   \n",
    "bins = [-1, 9, 14, 19, 24, 29, 34, 39, 100000]\n",
    "\n",
    "# Create the names for the nine bins\n",
    "group_names = [\"<10\", \"10-14\", \"15-19\", \"20-24\", \"25-29\", \"30-34\", \"35-39\", \"40+\"]\n",
    "\n",
    "# Distribute age values into the bins\n",
    "purchase_data[\"Age bins\"] = pd.cut(purchase_data[\"Age\"], bins, labels=group_names)\n",
    "\n",
    "# Create a group based off of the bins\n",
    "grouped_purchase_data = purchase_data.groupby(\"Age bins\")\n",
    "\n",
    "# Count total players by age bin\n",
    "count_age = grouped_purchase_data[\"SN\"].nunique()\n",
    "\n",
    "# Calculate percentages by age bin\n",
    "total_players = len(purchase_data[\"SN\"].value_counts())\n",
    "percentage_by_age = round(((count_age/total_players) * 100), 2)\n",
    "\n",
    "# Create data frame to hold the results\n",
    "age_summary = pd.DataFrame({\"Percentage of Players\": percentage_by_age, \"Total Count\": count_age})\n",
    "\n",
    "# Delete the age bins index\n",
    "del age_summary.index.name \n",
    "\n",
    "#Display the summary data frame\n",
    "summary_df = pd.DataFrame(age_summary)\n",
    "summary_df = summary_df[[\"Total Count\",\"Percentage of Players\"]]\n",
    "summary_df"
   ]
  },
  {
   "cell_type": "markdown",
   "metadata": {},
   "source": [
    "## Purchasing Analysis (Age)"
   ]
  },
  {
   "cell_type": "markdown",
   "metadata": {},
   "source": [
    "* Bin the purchase_data data frame by age\n",
    "\n",
    "\n",
    "* Run basic calculations to obtain purchase count, avg. purchase price, avg. purchase total per person etc. in the table below\n",
    "\n",
    "\n",
    "* Create a summary data frame to hold the results\n",
    "\n",
    "\n",
    "* Optional: give the displayed data cleaner formatting\n",
    "\n",
    "\n",
    "* Display the summary data frame"
   ]
  },
  {
   "cell_type": "code",
   "execution_count": 20,
   "metadata": {},
   "outputs": [
    {
     "data": {
      "text/html": [
       "<style  type=\"text/css\" >\n",
       "</style><table id=\"T_2ec9f560_d7e9_11e9_8823_88e9fe6b57e0\" ><thead>    <tr>        <th class=\"blank level0\" ></th>        <th class=\"col_heading level0 col0\" >Purchase Count</th>        <th class=\"col_heading level0 col1\" >Average Purchase Price</th>        <th class=\"col_heading level0 col2\" >Total Purchase Value</th>        <th class=\"col_heading level0 col3\" >Average Purchase Total per Person</th>    </tr></thead><tbody>\n",
       "                <tr>\n",
       "                        <th id=\"T_2ec9f560_d7e9_11e9_8823_88e9fe6b57e0level0_row0\" class=\"row_heading level0 row0\" ><10</th>\n",
       "                        <td id=\"T_2ec9f560_d7e9_11e9_8823_88e9fe6b57e0row0_col0\" class=\"data row0 col0\" >23</td>\n",
       "                        <td id=\"T_2ec9f560_d7e9_11e9_8823_88e9fe6b57e0row0_col1\" class=\"data row0 col1\" >$3.35</td>\n",
       "                        <td id=\"T_2ec9f560_d7e9_11e9_8823_88e9fe6b57e0row0_col2\" class=\"data row0 col2\" >$77.13</td>\n",
       "                        <td id=\"T_2ec9f560_d7e9_11e9_8823_88e9fe6b57e0row0_col3\" class=\"data row0 col3\" >$4.54</td>\n",
       "            </tr>\n",
       "            <tr>\n",
       "                        <th id=\"T_2ec9f560_d7e9_11e9_8823_88e9fe6b57e0level0_row1\" class=\"row_heading level0 row1\" >10-14</th>\n",
       "                        <td id=\"T_2ec9f560_d7e9_11e9_8823_88e9fe6b57e0row1_col0\" class=\"data row1 col0\" >28</td>\n",
       "                        <td id=\"T_2ec9f560_d7e9_11e9_8823_88e9fe6b57e0row1_col1\" class=\"data row1 col1\" >$2.96</td>\n",
       "                        <td id=\"T_2ec9f560_d7e9_11e9_8823_88e9fe6b57e0row1_col2\" class=\"data row1 col2\" >$82.78</td>\n",
       "                        <td id=\"T_2ec9f560_d7e9_11e9_8823_88e9fe6b57e0row1_col3\" class=\"data row1 col3\" >$3.76</td>\n",
       "            </tr>\n",
       "            <tr>\n",
       "                        <th id=\"T_2ec9f560_d7e9_11e9_8823_88e9fe6b57e0level0_row2\" class=\"row_heading level0 row2\" >15-19</th>\n",
       "                        <td id=\"T_2ec9f560_d7e9_11e9_8823_88e9fe6b57e0row2_col0\" class=\"data row2 col0\" >136</td>\n",
       "                        <td id=\"T_2ec9f560_d7e9_11e9_8823_88e9fe6b57e0row2_col1\" class=\"data row2 col1\" >$3.04</td>\n",
       "                        <td id=\"T_2ec9f560_d7e9_11e9_8823_88e9fe6b57e0row2_col2\" class=\"data row2 col2\" >$412.89</td>\n",
       "                        <td id=\"T_2ec9f560_d7e9_11e9_8823_88e9fe6b57e0row2_col3\" class=\"data row2 col3\" >$3.86</td>\n",
       "            </tr>\n",
       "            <tr>\n",
       "                        <th id=\"T_2ec9f560_d7e9_11e9_8823_88e9fe6b57e0level0_row3\" class=\"row_heading level0 row3\" >20-24</th>\n",
       "                        <td id=\"T_2ec9f560_d7e9_11e9_8823_88e9fe6b57e0row3_col0\" class=\"data row3 col0\" >365</td>\n",
       "                        <td id=\"T_2ec9f560_d7e9_11e9_8823_88e9fe6b57e0row3_col1\" class=\"data row3 col1\" >$3.05</td>\n",
       "                        <td id=\"T_2ec9f560_d7e9_11e9_8823_88e9fe6b57e0row3_col2\" class=\"data row3 col2\" >$1,114.06</td>\n",
       "                        <td id=\"T_2ec9f560_d7e9_11e9_8823_88e9fe6b57e0row3_col3\" class=\"data row3 col3\" >$4.32</td>\n",
       "            </tr>\n",
       "            <tr>\n",
       "                        <th id=\"T_2ec9f560_d7e9_11e9_8823_88e9fe6b57e0level0_row4\" class=\"row_heading level0 row4\" >25-29</th>\n",
       "                        <td id=\"T_2ec9f560_d7e9_11e9_8823_88e9fe6b57e0row4_col0\" class=\"data row4 col0\" >101</td>\n",
       "                        <td id=\"T_2ec9f560_d7e9_11e9_8823_88e9fe6b57e0row4_col1\" class=\"data row4 col1\" >$2.90</td>\n",
       "                        <td id=\"T_2ec9f560_d7e9_11e9_8823_88e9fe6b57e0row4_col2\" class=\"data row4 col2\" >$293.00</td>\n",
       "                        <td id=\"T_2ec9f560_d7e9_11e9_8823_88e9fe6b57e0row4_col3\" class=\"data row4 col3\" >$3.81</td>\n",
       "            </tr>\n",
       "            <tr>\n",
       "                        <th id=\"T_2ec9f560_d7e9_11e9_8823_88e9fe6b57e0level0_row5\" class=\"row_heading level0 row5\" >30-34</th>\n",
       "                        <td id=\"T_2ec9f560_d7e9_11e9_8823_88e9fe6b57e0row5_col0\" class=\"data row5 col0\" >73</td>\n",
       "                        <td id=\"T_2ec9f560_d7e9_11e9_8823_88e9fe6b57e0row5_col1\" class=\"data row5 col1\" >$2.93</td>\n",
       "                        <td id=\"T_2ec9f560_d7e9_11e9_8823_88e9fe6b57e0row5_col2\" class=\"data row5 col2\" >$214.00</td>\n",
       "                        <td id=\"T_2ec9f560_d7e9_11e9_8823_88e9fe6b57e0row5_col3\" class=\"data row5 col3\" >$4.12</td>\n",
       "            </tr>\n",
       "            <tr>\n",
       "                        <th id=\"T_2ec9f560_d7e9_11e9_8823_88e9fe6b57e0level0_row6\" class=\"row_heading level0 row6\" >35-39</th>\n",
       "                        <td id=\"T_2ec9f560_d7e9_11e9_8823_88e9fe6b57e0row6_col0\" class=\"data row6 col0\" >41</td>\n",
       "                        <td id=\"T_2ec9f560_d7e9_11e9_8823_88e9fe6b57e0row6_col1\" class=\"data row6 col1\" >$3.60</td>\n",
       "                        <td id=\"T_2ec9f560_d7e9_11e9_8823_88e9fe6b57e0row6_col2\" class=\"data row6 col2\" >$147.67</td>\n",
       "                        <td id=\"T_2ec9f560_d7e9_11e9_8823_88e9fe6b57e0row6_col3\" class=\"data row6 col3\" >$4.76</td>\n",
       "            </tr>\n",
       "            <tr>\n",
       "                        <th id=\"T_2ec9f560_d7e9_11e9_8823_88e9fe6b57e0level0_row7\" class=\"row_heading level0 row7\" >40+</th>\n",
       "                        <td id=\"T_2ec9f560_d7e9_11e9_8823_88e9fe6b57e0row7_col0\" class=\"data row7 col0\" >13</td>\n",
       "                        <td id=\"T_2ec9f560_d7e9_11e9_8823_88e9fe6b57e0row7_col1\" class=\"data row7 col1\" >$2.94</td>\n",
       "                        <td id=\"T_2ec9f560_d7e9_11e9_8823_88e9fe6b57e0row7_col2\" class=\"data row7 col2\" >$38.24</td>\n",
       "                        <td id=\"T_2ec9f560_d7e9_11e9_8823_88e9fe6b57e0row7_col3\" class=\"data row7 col3\" >$3.19</td>\n",
       "            </tr>\n",
       "    </tbody></table>"
      ],
      "text/plain": [
       "<pandas.io.formats.style.Styler at 0x1198cda20>"
      ]
     },
     "execution_count": 20,
     "metadata": {},
     "output_type": "execute_result"
    }
   ],
   "source": [
    "# Count purchases by age \n",
    "purchase_count_age = grouped_purchase_data[\"Purchase ID\"].count()\n",
    "\n",
    "# Calculate average purchase price by age \n",
    "avg_purchase_price_age = grouped_purchase_data[\"Price\"].mean()\n",
    "\n",
    "# Calculate total purchase value by age \n",
    "avg_total_purchase = grouped_purchase_data[\"Price\"].sum()\n",
    "\n",
    "# Calculate the average purchase per person by age \n",
    "avg_purchase_per_person_age = (avg_total_purchase/count_age)\n",
    "\n",
    "# Create a summary data frame to hold the results\n",
    "age_summary = pd.DataFrame({\"Purchase Count\": purchase_count_age,\n",
    "                                 \"Average Purchase Price\": avg_purchase_price_age,\n",
    "                                 \"Total Purchase Value\": avg_total_purchase,\n",
    "                                 \"Average Purchase Total per Person\": avg_purchase_per_person_age})\n",
    "\n",
    "# Delete the age bins index\n",
    "del age_summary.index.name \n",
    "\n",
    "# Format with currency style\n",
    "age_summary.style.format({\"Average Purchase Price\":\"${:,.2f}\",\n",
    "                               \"Total Purchase Value\":\"${:,.2f}\",\n",
    "                               \"Average Purchase Total per Person\":\"${:,.2f}\"})"
   ]
  },
  {
   "cell_type": "code",
   "execution_count": null,
   "metadata": {},
   "outputs": [],
   "source": []
  },
  {
   "cell_type": "markdown",
   "metadata": {},
   "source": [
    "## Top Spenders"
   ]
  },
  {
   "cell_type": "markdown",
   "metadata": {},
   "source": [
    "* Run basic calculations to obtain the results in the table below\n",
    "\n",
    "\n",
    "* Create a summary data frame to hold the results\n",
    "\n",
    "\n",
    "* Sort the total purchase value column in descending order\n",
    "\n",
    "\n",
    "* Optional: give the displayed data cleaner formatting\n",
    "\n",
    "\n",
    "* Display a preview of the summary data frame\n",
    "\n"
   ]
  },
  {
   "cell_type": "code",
   "execution_count": 31,
   "metadata": {},
   "outputs": [
    {
     "data": {
      "text/html": [
       "<style  type=\"text/css\" >\n",
       "</style><table id=\"T_3502b83e_d7f5_11e9_8823_88e9fe6b57e0\" ><thead>    <tr>        <th class=\"blank\" ></th>        <th class=\"blank level0\" ></th>        <th class=\"col_heading level0 col0\" >Purchase Count</th>        <th class=\"col_heading level0 col1\" >Average Purchase Price</th>        <th class=\"col_heading level0 col2\" >Total Purchase Value</th>    </tr>    <tr>        <th class=\"index_name level0\" >SN</th>        <th class=\"index_name level1\" >Gender</th>        <th class=\"blank\" ></th>        <th class=\"blank\" ></th>        <th class=\"blank\" ></th>    </tr></thead><tbody>\n",
       "                <tr>\n",
       "                        <th id=\"T_3502b83e_d7f5_11e9_8823_88e9fe6b57e0level0_row0\" class=\"row_heading level0 row0\" >Lisosia93</th>\n",
       "                        <th id=\"T_3502b83e_d7f5_11e9_8823_88e9fe6b57e0level1_row0\" class=\"row_heading level1 row0\" >Male</th>\n",
       "                        <td id=\"T_3502b83e_d7f5_11e9_8823_88e9fe6b57e0row0_col0\" class=\"data row0 col0\" >5</td>\n",
       "                        <td id=\"T_3502b83e_d7f5_11e9_8823_88e9fe6b57e0row0_col1\" class=\"data row0 col1\" >$3.79</td>\n",
       "                        <td id=\"T_3502b83e_d7f5_11e9_8823_88e9fe6b57e0row0_col2\" class=\"data row0 col2\" >$18.96</td>\n",
       "            </tr>\n",
       "            <tr>\n",
       "                        <th id=\"T_3502b83e_d7f5_11e9_8823_88e9fe6b57e0level0_row1\" class=\"row_heading level0 row1\" >Idastidru52</th>\n",
       "                        <th id=\"T_3502b83e_d7f5_11e9_8823_88e9fe6b57e0level1_row1\" class=\"row_heading level1 row1\" >Male</th>\n",
       "                        <td id=\"T_3502b83e_d7f5_11e9_8823_88e9fe6b57e0row1_col0\" class=\"data row1 col0\" >4</td>\n",
       "                        <td id=\"T_3502b83e_d7f5_11e9_8823_88e9fe6b57e0row1_col1\" class=\"data row1 col1\" >$3.86</td>\n",
       "                        <td id=\"T_3502b83e_d7f5_11e9_8823_88e9fe6b57e0row1_col2\" class=\"data row1 col2\" >$15.45</td>\n",
       "            </tr>\n",
       "            <tr>\n",
       "                        <th id=\"T_3502b83e_d7f5_11e9_8823_88e9fe6b57e0level0_row2\" class=\"row_heading level0 row2\" >Chamjask73</th>\n",
       "                        <th id=\"T_3502b83e_d7f5_11e9_8823_88e9fe6b57e0level1_row2\" class=\"row_heading level1 row2\" >Female</th>\n",
       "                        <td id=\"T_3502b83e_d7f5_11e9_8823_88e9fe6b57e0row2_col0\" class=\"data row2 col0\" >3</td>\n",
       "                        <td id=\"T_3502b83e_d7f5_11e9_8823_88e9fe6b57e0row2_col1\" class=\"data row2 col1\" >$4.61</td>\n",
       "                        <td id=\"T_3502b83e_d7f5_11e9_8823_88e9fe6b57e0row2_col2\" class=\"data row2 col2\" >$13.83</td>\n",
       "            </tr>\n",
       "            <tr>\n",
       "                        <th id=\"T_3502b83e_d7f5_11e9_8823_88e9fe6b57e0level0_row3\" class=\"row_heading level0 row3\" >Iral74</th>\n",
       "                        <th id=\"T_3502b83e_d7f5_11e9_8823_88e9fe6b57e0level1_row3\" class=\"row_heading level1 row3\" >Male</th>\n",
       "                        <td id=\"T_3502b83e_d7f5_11e9_8823_88e9fe6b57e0row3_col0\" class=\"data row3 col0\" >4</td>\n",
       "                        <td id=\"T_3502b83e_d7f5_11e9_8823_88e9fe6b57e0row3_col1\" class=\"data row3 col1\" >$3.40</td>\n",
       "                        <td id=\"T_3502b83e_d7f5_11e9_8823_88e9fe6b57e0row3_col2\" class=\"data row3 col2\" >$13.62</td>\n",
       "            </tr>\n",
       "            <tr>\n",
       "                        <th id=\"T_3502b83e_d7f5_11e9_8823_88e9fe6b57e0level0_row4\" class=\"row_heading level0 row4\" >Iskadarya95</th>\n",
       "                        <th id=\"T_3502b83e_d7f5_11e9_8823_88e9fe6b57e0level1_row4\" class=\"row_heading level1 row4\" >Male</th>\n",
       "                        <td id=\"T_3502b83e_d7f5_11e9_8823_88e9fe6b57e0row4_col0\" class=\"data row4 col0\" >3</td>\n",
       "                        <td id=\"T_3502b83e_d7f5_11e9_8823_88e9fe6b57e0row4_col1\" class=\"data row4 col1\" >$4.37</td>\n",
       "                        <td id=\"T_3502b83e_d7f5_11e9_8823_88e9fe6b57e0row4_col2\" class=\"data row4 col2\" >$13.10</td>\n",
       "            </tr>\n",
       "    </tbody></table>"
      ],
      "text/plain": [
       "<pandas.io.formats.style.Styler at 0x1199fb9e8>"
      ]
     },
     "execution_count": 31,
     "metadata": {},
     "output_type": "execute_result"
    }
   ],
   "source": [
    "# Group purchase data by SN\n",
    "grouped_purchase_data = purchase_data.groupby([\"SN\", \"Gender\"])\n",
    "\n",
    "# Count the total purchases by name\n",
    "purchase_count_spender = grouped_purchase_data[\"Purchase ID\"].count()\n",
    "\n",
    "# Calculate the average purchase by name \n",
    "avg_purchase_price_spender = grouped_purchase_data[\"Price\"].mean()\n",
    "\n",
    "# Calculate total purchase\n",
    "purchase_total_spender = grouped_purchase_data[\"Price\"].sum()\n",
    "\n",
    "# Create a summary data frame to hold the results\n",
    "spenders_summary = pd.DataFrame({\"Purchase Count\": purchase_count_spender,\n",
    "                             \"Average Purchase Price\": avg_purchase_price_spender,\n",
    "                             \"Total Purchase Value\":purchase_total_spender})\n",
    "\n",
    "# Sort in descending order to obtain top 5 spender names \n",
    "formatted_summary = spenders_summary.sort_values([\"Total Purchase Value\"], ascending=False).head()\n",
    "\n",
    "# Format with currency style\n",
    "formatted_summary.style.format({\"Average Purchase Total\":\"${:,.2f}\",\n",
    "                                 \"Average Purchase Price\":\"${:,.2f}\", \n",
    "                                 \"Total Purchase Value\":\"${:,.2f}\"})"
   ]
  },
  {
   "cell_type": "markdown",
   "metadata": {},
   "source": [
    "## Most Popular Items"
   ]
  },
  {
   "cell_type": "markdown",
   "metadata": {},
   "source": [
    "* Retrieve the Item ID, Item Name, and Item Price columns\n",
    "\n",
    "\n",
    "* Group by Item ID and Item Name. Perform calculations to obtain purchase count, item price, and total purchase value\n",
    "\n",
    "\n",
    "* Create a summary data frame to hold the results\n",
    "\n",
    "\n",
    "* Sort the purchase count column in descending order\n",
    "\n",
    "\n",
    "* Optional: give the displayed data cleaner formatting\n",
    "\n",
    "\n",
    "* Display a preview of the summary data frame\n",
    "\n"
   ]
  },
  {
   "cell_type": "code",
   "execution_count": 22,
   "metadata": {},
   "outputs": [
    {
     "data": {
      "text/html": [
       "<style  type=\"text/css\" >\n",
       "</style><table id=\"T_4f869b5a_d7e9_11e9_8823_88e9fe6b57e0\" ><thead>    <tr>        <th class=\"blank\" ></th>        <th class=\"blank level0\" ></th>        <th class=\"col_heading level0 col0\" >Purchase Count</th>        <th class=\"col_heading level0 col1\" >Item Price</th>        <th class=\"col_heading level0 col2\" >Total Purchase Value</th>    </tr>    <tr>        <th class=\"index_name level0\" >Item ID</th>        <th class=\"index_name level1\" >Item Name</th>        <th class=\"blank\" ></th>        <th class=\"blank\" ></th>        <th class=\"blank\" ></th>    </tr></thead><tbody>\n",
       "                <tr>\n",
       "                        <th id=\"T_4f869b5a_d7e9_11e9_8823_88e9fe6b57e0level0_row0\" class=\"row_heading level0 row0\" >178</th>\n",
       "                        <th id=\"T_4f869b5a_d7e9_11e9_8823_88e9fe6b57e0level1_row0\" class=\"row_heading level1 row0\" >Oathbreaker, Last Hope of the Breaking Storm</th>\n",
       "                        <td id=\"T_4f869b5a_d7e9_11e9_8823_88e9fe6b57e0row0_col0\" class=\"data row0 col0\" >12</td>\n",
       "                        <td id=\"T_4f869b5a_d7e9_11e9_8823_88e9fe6b57e0row0_col1\" class=\"data row0 col1\" >$4.23</td>\n",
       "                        <td id=\"T_4f869b5a_d7e9_11e9_8823_88e9fe6b57e0row0_col2\" class=\"data row0 col2\" >$50.76</td>\n",
       "            </tr>\n",
       "            <tr>\n",
       "                        <th id=\"T_4f869b5a_d7e9_11e9_8823_88e9fe6b57e0level0_row1\" class=\"row_heading level0 row1\" >145</th>\n",
       "                        <th id=\"T_4f869b5a_d7e9_11e9_8823_88e9fe6b57e0level1_row1\" class=\"row_heading level1 row1\" >Fiery Glass Crusader</th>\n",
       "                        <td id=\"T_4f869b5a_d7e9_11e9_8823_88e9fe6b57e0row1_col0\" class=\"data row1 col0\" >9</td>\n",
       "                        <td id=\"T_4f869b5a_d7e9_11e9_8823_88e9fe6b57e0row1_col1\" class=\"data row1 col1\" >$4.58</td>\n",
       "                        <td id=\"T_4f869b5a_d7e9_11e9_8823_88e9fe6b57e0row1_col2\" class=\"data row1 col2\" >$41.22</td>\n",
       "            </tr>\n",
       "            <tr>\n",
       "                        <th id=\"T_4f869b5a_d7e9_11e9_8823_88e9fe6b57e0level0_row2\" class=\"row_heading level0 row2\" >108</th>\n",
       "                        <th id=\"T_4f869b5a_d7e9_11e9_8823_88e9fe6b57e0level1_row2\" class=\"row_heading level1 row2\" >Extraction, Quickblade Of Trembling Hands</th>\n",
       "                        <td id=\"T_4f869b5a_d7e9_11e9_8823_88e9fe6b57e0row2_col0\" class=\"data row2 col0\" >9</td>\n",
       "                        <td id=\"T_4f869b5a_d7e9_11e9_8823_88e9fe6b57e0row2_col1\" class=\"data row2 col1\" >$3.53</td>\n",
       "                        <td id=\"T_4f869b5a_d7e9_11e9_8823_88e9fe6b57e0row2_col2\" class=\"data row2 col2\" >$31.77</td>\n",
       "            </tr>\n",
       "            <tr>\n",
       "                        <th id=\"T_4f869b5a_d7e9_11e9_8823_88e9fe6b57e0level0_row3\" class=\"row_heading level0 row3\" >82</th>\n",
       "                        <th id=\"T_4f869b5a_d7e9_11e9_8823_88e9fe6b57e0level1_row3\" class=\"row_heading level1 row3\" >Nirvana</th>\n",
       "                        <td id=\"T_4f869b5a_d7e9_11e9_8823_88e9fe6b57e0row3_col0\" class=\"data row3 col0\" >9</td>\n",
       "                        <td id=\"T_4f869b5a_d7e9_11e9_8823_88e9fe6b57e0row3_col1\" class=\"data row3 col1\" >$4.90</td>\n",
       "                        <td id=\"T_4f869b5a_d7e9_11e9_8823_88e9fe6b57e0row3_col2\" class=\"data row3 col2\" >$44.10</td>\n",
       "            </tr>\n",
       "            <tr>\n",
       "                        <th id=\"T_4f869b5a_d7e9_11e9_8823_88e9fe6b57e0level0_row4\" class=\"row_heading level0 row4\" >19</th>\n",
       "                        <th id=\"T_4f869b5a_d7e9_11e9_8823_88e9fe6b57e0level1_row4\" class=\"row_heading level1 row4\" >Pursuit, Cudgel of Necromancy</th>\n",
       "                        <td id=\"T_4f869b5a_d7e9_11e9_8823_88e9fe6b57e0row4_col0\" class=\"data row4 col0\" >8</td>\n",
       "                        <td id=\"T_4f869b5a_d7e9_11e9_8823_88e9fe6b57e0row4_col1\" class=\"data row4 col1\" >$1.02</td>\n",
       "                        <td id=\"T_4f869b5a_d7e9_11e9_8823_88e9fe6b57e0row4_col2\" class=\"data row4 col2\" >$8.16</td>\n",
       "            </tr>\n",
       "    </tbody></table>"
      ],
      "text/plain": [
       "<pandas.io.formats.style.Styler at 0x11ad5ce10>"
      ]
     },
     "execution_count": 22,
     "metadata": {},
     "output_type": "execute_result"
    }
   ],
   "source": [
    "# Create a new data frame with Item ID, Item Name, and Item Price columns\n",
    "items_df = purchase_data[[\"Item ID\", \"Item Name\", \"Price\"]]\n",
    "\n",
    "# Group the item data by item id and item name \n",
    "item_stats = items_df.groupby([\"Item ID\",\"Item Name\"])\n",
    "\n",
    "# Count the number of purchases of each item\n",
    "purchase_count_item = item_stats[\"Price\"].count()\n",
    "\n",
    "# Calculate the purchase value per item \n",
    "purchase_value = (item_stats[\"Price\"].sum()) \n",
    "\n",
    "# Extract individual item price\n",
    "item_price = purchase_value/purchase_count_item\n",
    "\n",
    "# Create a summary data frame to hold the results\n",
    "most_popular_summary = pd.DataFrame({\"Purchase Count\": purchase_count_item, \n",
    "                                   \"Item Price\": item_price,\n",
    "                                   \"Total Purchase Value\":purchase_value})\n",
    "\n",
    "# Sort the purchase count column in descending order\n",
    "popular_formatted = most_popular_summary.sort_values([\"Purchase Count\"], ascending=False).head()\n",
    "\n",
    "# Display data in cleaner formatting\n",
    "popular_formatted.style.format({\"Item Price\":\"${:,.2f}\",\n",
    "                                \"Total Purchase Value\":\"${:,.2f}\"})"
   ]
  },
  {
   "cell_type": "markdown",
   "metadata": {},
   "source": [
    "## Most Profitable Items"
   ]
  },
  {
   "cell_type": "markdown",
   "metadata": {},
   "source": [
    "* Sort the above table by total purchase value in descending order\n",
    "\n",
    "\n",
    "* Optional: give the displayed data cleaner formatting\n",
    "\n",
    "\n",
    "* Display a preview of the data frame\n",
    "\n"
   ]
  },
  {
   "cell_type": "code",
   "execution_count": 23,
   "metadata": {
    "scrolled": true
   },
   "outputs": [
    {
     "data": {
      "text/html": [
       "<style  type=\"text/css\" >\n",
       "</style><table id=\"T_51ca5938_d7e9_11e9_8823_88e9fe6b57e0\" ><thead>    <tr>        <th class=\"blank\" ></th>        <th class=\"blank level0\" ></th>        <th class=\"col_heading level0 col0\" >Purchase Count</th>        <th class=\"col_heading level0 col1\" >Item Price</th>        <th class=\"col_heading level0 col2\" >Total Purchase Value</th>    </tr>    <tr>        <th class=\"index_name level0\" >Item ID</th>        <th class=\"index_name level1\" >Item Name</th>        <th class=\"blank\" ></th>        <th class=\"blank\" ></th>        <th class=\"blank\" ></th>    </tr></thead><tbody>\n",
       "                <tr>\n",
       "                        <th id=\"T_51ca5938_d7e9_11e9_8823_88e9fe6b57e0level0_row0\" class=\"row_heading level0 row0\" >178</th>\n",
       "                        <th id=\"T_51ca5938_d7e9_11e9_8823_88e9fe6b57e0level1_row0\" class=\"row_heading level1 row0\" >Oathbreaker, Last Hope of the Breaking Storm</th>\n",
       "                        <td id=\"T_51ca5938_d7e9_11e9_8823_88e9fe6b57e0row0_col0\" class=\"data row0 col0\" >12</td>\n",
       "                        <td id=\"T_51ca5938_d7e9_11e9_8823_88e9fe6b57e0row0_col1\" class=\"data row0 col1\" >$4.23</td>\n",
       "                        <td id=\"T_51ca5938_d7e9_11e9_8823_88e9fe6b57e0row0_col2\" class=\"data row0 col2\" >$50.76</td>\n",
       "            </tr>\n",
       "            <tr>\n",
       "                        <th id=\"T_51ca5938_d7e9_11e9_8823_88e9fe6b57e0level0_row1\" class=\"row_heading level0 row1\" >82</th>\n",
       "                        <th id=\"T_51ca5938_d7e9_11e9_8823_88e9fe6b57e0level1_row1\" class=\"row_heading level1 row1\" >Nirvana</th>\n",
       "                        <td id=\"T_51ca5938_d7e9_11e9_8823_88e9fe6b57e0row1_col0\" class=\"data row1 col0\" >9</td>\n",
       "                        <td id=\"T_51ca5938_d7e9_11e9_8823_88e9fe6b57e0row1_col1\" class=\"data row1 col1\" >$4.90</td>\n",
       "                        <td id=\"T_51ca5938_d7e9_11e9_8823_88e9fe6b57e0row1_col2\" class=\"data row1 col2\" >$44.10</td>\n",
       "            </tr>\n",
       "            <tr>\n",
       "                        <th id=\"T_51ca5938_d7e9_11e9_8823_88e9fe6b57e0level0_row2\" class=\"row_heading level0 row2\" >145</th>\n",
       "                        <th id=\"T_51ca5938_d7e9_11e9_8823_88e9fe6b57e0level1_row2\" class=\"row_heading level1 row2\" >Fiery Glass Crusader</th>\n",
       "                        <td id=\"T_51ca5938_d7e9_11e9_8823_88e9fe6b57e0row2_col0\" class=\"data row2 col0\" >9</td>\n",
       "                        <td id=\"T_51ca5938_d7e9_11e9_8823_88e9fe6b57e0row2_col1\" class=\"data row2 col1\" >$4.58</td>\n",
       "                        <td id=\"T_51ca5938_d7e9_11e9_8823_88e9fe6b57e0row2_col2\" class=\"data row2 col2\" >$41.22</td>\n",
       "            </tr>\n",
       "            <tr>\n",
       "                        <th id=\"T_51ca5938_d7e9_11e9_8823_88e9fe6b57e0level0_row3\" class=\"row_heading level0 row3\" >92</th>\n",
       "                        <th id=\"T_51ca5938_d7e9_11e9_8823_88e9fe6b57e0level1_row3\" class=\"row_heading level1 row3\" >Final Critic</th>\n",
       "                        <td id=\"T_51ca5938_d7e9_11e9_8823_88e9fe6b57e0row3_col0\" class=\"data row3 col0\" >8</td>\n",
       "                        <td id=\"T_51ca5938_d7e9_11e9_8823_88e9fe6b57e0row3_col1\" class=\"data row3 col1\" >$4.88</td>\n",
       "                        <td id=\"T_51ca5938_d7e9_11e9_8823_88e9fe6b57e0row3_col2\" class=\"data row3 col2\" >$39.04</td>\n",
       "            </tr>\n",
       "            <tr>\n",
       "                        <th id=\"T_51ca5938_d7e9_11e9_8823_88e9fe6b57e0level0_row4\" class=\"row_heading level0 row4\" >103</th>\n",
       "                        <th id=\"T_51ca5938_d7e9_11e9_8823_88e9fe6b57e0level1_row4\" class=\"row_heading level1 row4\" >Singed Scalpel</th>\n",
       "                        <td id=\"T_51ca5938_d7e9_11e9_8823_88e9fe6b57e0row4_col0\" class=\"data row4 col0\" >8</td>\n",
       "                        <td id=\"T_51ca5938_d7e9_11e9_8823_88e9fe6b57e0row4_col1\" class=\"data row4 col1\" >$4.35</td>\n",
       "                        <td id=\"T_51ca5938_d7e9_11e9_8823_88e9fe6b57e0row4_col2\" class=\"data row4 col2\" >$34.80</td>\n",
       "            </tr>\n",
       "    </tbody></table>"
      ],
      "text/plain": [
       "<pandas.io.formats.style.Styler at 0x11ad5c390>"
      ]
     },
     "execution_count": 23,
     "metadata": {},
     "output_type": "execute_result"
    }
   ],
   "source": [
    "# Sort the most_popular_summary by total purchase value in descending order\n",
    "most_profitable = most_popular_summary.sort_values([\"Total Purchase Value\"],\n",
    "                                                   ascending=False).head()\n",
    "\n",
    "# Format with currency style\n",
    "most_profitable.style.format({\"Item Price\":\"${:,.2f}\",\n",
    "                                \"Total Purchase Value\":\"${:,.2f}\"})"
   ]
  },
  {
   "cell_type": "code",
   "execution_count": null,
   "metadata": {},
   "outputs": [],
   "source": []
  }
 ],
 "metadata": {
  "anaconda-cloud": {},
  "kernel_info": {
   "name": "python3"
  },
  "kernelspec": {
   "display_name": "Python 3",
   "language": "python",
   "name": "python3"
  },
  "language_info": {
   "codemirror_mode": {
    "name": "ipython",
    "version": 3
   },
   "file_extension": ".py",
   "mimetype": "text/x-python",
   "name": "python",
   "nbconvert_exporter": "python",
   "pygments_lexer": "ipython3",
   "version": "3.7.3"
  },
  "nteract": {
   "version": "0.2.0"
  }
 },
 "nbformat": 4,
 "nbformat_minor": 2
}
